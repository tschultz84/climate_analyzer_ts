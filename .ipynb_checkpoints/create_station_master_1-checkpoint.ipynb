{
 "cells": [
  {
   "cell_type": "code",
   "execution_count": null,
   "metadata": {},
   "outputs": [],
   "source": [
    "#!/usr/bin/env python3\n",
    "# -*- coding: utf-8 -*-\n",
    "\"\"\"\n",
    "Created on Wed Oct  7 07:11:53 2020\n",
    "\n",
    "@author: scs-rd\n",
    "\"\"\"\n",
    "#This cell imports the right packages.\n",
    "\n",
    "import pandas as pd"
   ]
  },
  {
   "cell_type": "code",
   "execution_count": null,
   "metadata": {},
   "outputs": [],
   "source": [
    "\n",
    "\n",
    "#DATAPATH is just where ghcnd-stations and ghcnd-inventory are located on your hard drive.\n",
    "stDATAPATH = \"C:\\\\ts_big_data_files\\\\\"\n",
    "\n",
    "#This loads the file containing all of the station meta information, including lat/lon.\n",
    "allstations = pd.read_fwf(stDATAPATH+'ghcnd-stations.txt',colspecs=[\n",
    "                                                                          #ID#\n",
    "                                                                        (0,11),\n",
    "                                                                        #Lat/Lon\n",
    "                                                                        (11,20),(21,30),\n",
    "                                                                        #Eelvation, tength of meters\n",
    "                                                                        (31,37),\n",
    "                                                                        #Station name\n",
    "                                                                        (38,72),\n",
    "                                                                        #Other\n",
    "                                                                        (73,82),(83,85)\n",
    "                                                                        ])\n",
    "allstations.columns=['ID','Lat','Lon','Elevation (0.1m)','Name','Other1','Other2']\n",
    "#%%\n",
    "#This pulls the list of countries. THe first two eltters of each weather station ID\n",
    "# is the country.\n",
    "countrylist = pd.read_fwf(stDATAPATH+'ghcnd-countries.txt',colspecs=[(0,3),(3,49)])\n",
    "countrylist.columns = ['Code','Name']\n",
    "#%%\n",
    "#allstations = pd.read_csv(stDATAPATH+'ghcnd-stations.txt',sep='\\t')\n",
    "#allstations.columns=['ID','Latitude','Longitude','Elevation','Statname']\n",
    "\n",
    "#This loads the datafile containing the time periods of analysis\n",
    "stationperiods = pd.read_fwf(stDATAPATH+'ghcnd-inventory.txt',colspecs=[\n",
    "                                                                         #Country code#\n",
    "                                                                        (0,2),                                                                       \n",
    "                                                                        #ID#\n",
    "                                                                        (0,11),\n",
    "                                                                        #Lat/Lon\n",
    "                                                                        (11,20),(21,30),\n",
    "                                                                        #Others\n",
    "                                                                        (31,35),\n",
    "                                                                        #First year, Last Year\n",
    "                                                                        (36,40),(41,45)\n",
    "                                                                        ])\n",
    "stationperiods.columns=['Country','ID','Lat','Lon','Element','Firstyear','Lastyear']\n",
    "\n",
    "#%%\n",
    "#This merges the data into one DataFrame containing all station related data, including all columns, and all elements, smashed together into one enormous\n",
    "#dataframe (witih over 700,000 roles). \n",
    "allstdata = pd.merge(allstations,stationperiods)\n",
    "\n",
    "#%%\n",
    "#tempdata=allstdata[allstdata['Element'].isin([\"TAVG\",\"TMAX\",\"TMIN\"])]\n",
    "#This creates a dataframe that focus on the columns and variables of interest. \n",
    "sttempdata=allstdata[allstdata['Element'].isin([\"TAVG\",\"TMAX\",\"TMIN\",\"PRCP\",\"SNOW\"])]\n",
    "#STILL NEED TO DROP SOME COLUMSN.\n",
    "sttempdata=sttempdata[['ID','Lat', 'Lon', 'Element', 'Firstyear', 'Lastyear']]"
   ]
  }
 ],
 "metadata": {
  "kernelspec": {
   "display_name": "Python 3",
   "language": "python",
   "name": "python3"
  },
  "language_info": {
   "codemirror_mode": {
    "name": "ipython",
    "version": 3
   },
   "file_extension": ".py",
   "mimetype": "text/x-python",
   "name": "python",
   "nbconvert_exporter": "python",
   "pygments_lexer": "ipython3",
   "version": "3.7.6"
  }
 },
 "nbformat": 4,
 "nbformat_minor": 4
}
